{
 "cells": [
  {
   "cell_type": "markdown",
   "id": "836ac387",
   "metadata": {},
   "source": [
    "# Table List"
   ]
  },
  {
   "cell_type": "markdown",
   "id": "e7b610e6",
   "metadata": {},
   "source": [
    "- [test about marketing campaign's effectiveness](#test-about-marketing-campaign's-effectiveness)"
   ]
  },
  {
   "cell_type": "code",
   "execution_count": null,
   "id": "b009750b",
   "metadata": {},
   "outputs": [],
   "source": []
  },
  {
   "cell_type": "markdown",
   "id": "c327c21d",
   "metadata": {},
   "source": [
    "---"
   ]
  },
  {
   "cell_type": "markdown",
   "id": "e0b94ebf",
   "metadata": {},
   "source": [
    "## test about marketing campaign's effectiveness"
   ]
  },
  {
   "cell_type": "code",
   "execution_count": 31,
   "id": "47876a10",
   "metadata": {},
   "outputs": [],
   "source": [
    "import pandas as pd\n",
    "import numpy as np\n",
    "from scipy import stats"
   ]
  },
  {
   "cell_type": "code",
   "execution_count": 3,
   "id": "eff53f67",
   "metadata": {},
   "outputs": [],
   "source": [
    "df = pd.read_csv(\"/Users/LiviaChen/Desktop/data_analysis_notebooks/dataset/WA_Fn-UseC_-Marketing-Campaign-Eff-UseC_-FastF.csv\")"
   ]
  },
  {
   "cell_type": "code",
   "execution_count": 6,
   "id": "b902c715",
   "metadata": {},
   "outputs": [
    {
     "data": {
      "text/html": [
       "<div>\n",
       "<style scoped>\n",
       "    .dataframe tbody tr th:only-of-type {\n",
       "        vertical-align: middle;\n",
       "    }\n",
       "\n",
       "    .dataframe tbody tr th {\n",
       "        vertical-align: top;\n",
       "    }\n",
       "\n",
       "    .dataframe thead th {\n",
       "        text-align: right;\n",
       "    }\n",
       "</style>\n",
       "<table border=\"1\" class=\"dataframe\">\n",
       "  <thead>\n",
       "    <tr style=\"text-align: right;\">\n",
       "      <th></th>\n",
       "      <th>count</th>\n",
       "      <th>mean</th>\n",
       "      <th>std</th>\n",
       "      <th>min</th>\n",
       "      <th>25%</th>\n",
       "      <th>50%</th>\n",
       "      <th>75%</th>\n",
       "      <th>max</th>\n",
       "    </tr>\n",
       "    <tr>\n",
       "      <th>Promotion</th>\n",
       "      <th></th>\n",
       "      <th></th>\n",
       "      <th></th>\n",
       "      <th></th>\n",
       "      <th></th>\n",
       "      <th></th>\n",
       "      <th></th>\n",
       "      <th></th>\n",
       "    </tr>\n",
       "  </thead>\n",
       "  <tbody>\n",
       "    <tr>\n",
       "      <th>1</th>\n",
       "      <td>172.0</td>\n",
       "      <td>8.279070</td>\n",
       "      <td>6.636160</td>\n",
       "      <td>1.0</td>\n",
       "      <td>3.0</td>\n",
       "      <td>6.0</td>\n",
       "      <td>12.0</td>\n",
       "      <td>27.0</td>\n",
       "    </tr>\n",
       "    <tr>\n",
       "      <th>2</th>\n",
       "      <td>188.0</td>\n",
       "      <td>7.978723</td>\n",
       "      <td>6.597648</td>\n",
       "      <td>1.0</td>\n",
       "      <td>3.0</td>\n",
       "      <td>7.0</td>\n",
       "      <td>10.0</td>\n",
       "      <td>28.0</td>\n",
       "    </tr>\n",
       "    <tr>\n",
       "      <th>3</th>\n",
       "      <td>188.0</td>\n",
       "      <td>9.234043</td>\n",
       "      <td>6.651646</td>\n",
       "      <td>1.0</td>\n",
       "      <td>5.0</td>\n",
       "      <td>8.0</td>\n",
       "      <td>12.0</td>\n",
       "      <td>24.0</td>\n",
       "    </tr>\n",
       "  </tbody>\n",
       "</table>\n",
       "</div>"
      ],
      "text/plain": [
       "           count      mean       std  min  25%  50%   75%   max\n",
       "Promotion                                                      \n",
       "1          172.0  8.279070  6.636160  1.0  3.0  6.0  12.0  27.0\n",
       "2          188.0  7.978723  6.597648  1.0  3.0  7.0  10.0  28.0\n",
       "3          188.0  9.234043  6.651646  1.0  5.0  8.0  12.0  24.0"
      ]
     },
     "execution_count": 6,
     "metadata": {},
     "output_type": "execute_result"
    }
   ],
   "source": [
    "# there are 3 kinds of promotion campaign\n",
    "df.groupby([\"Promotion\"])[\"AgeOfStore\"].describe()"
   ]
  },
  {
   "cell_type": "markdown",
   "id": "cd8b74e0",
   "metadata": {},
   "source": [
    "### t-test"
   ]
  },
  {
   "cell_type": "markdown",
   "id": "1099ccb9",
   "metadata": {},
   "source": [
    "let test only Promotion 1 and 2, to see which one is significantly better than others"
   ]
  },
  {
   "cell_type": "code",
   "execution_count": 20,
   "id": "91c788bf",
   "metadata": {},
   "outputs": [
    {
     "data": {
      "text/plain": [
       "Promotion\n",
       "1    58.099012\n",
       "2    47.329415\n",
       "3    55.364468\n",
       "Name: SalesInThousands, dtype: float64"
      ]
     },
     "execution_count": 20,
     "metadata": {},
     "output_type": "execute_result"
    }
   ],
   "source": [
    "means = df.groupby([\"Promotion\"])[\"SalesInThousands\"].mean()\n",
    "means"
   ]
  },
  {
   "cell_type": "code",
   "execution_count": 16,
   "id": "0241eefe",
   "metadata": {},
   "outputs": [
    {
     "data": {
      "text/plain": [
       "Promotion\n",
       "1    16.553782\n",
       "2    15.108955\n",
       "3    16.766231\n",
       "Name: SalesInThousands, dtype: float64"
      ]
     },
     "execution_count": 16,
     "metadata": {},
     "output_type": "execute_result"
    }
   ],
   "source": [
    "stds = df.groupby([\"Promotion\"])[\"SalesInThousands\"].std()\n",
    "stds"
   ]
  },
  {
   "cell_type": "code",
   "execution_count": 18,
   "id": "5d5d10fc",
   "metadata": {},
   "outputs": [
    {
     "data": {
      "text/plain": [
       "Promotion\n",
       "1    172\n",
       "2    188\n",
       "3    188\n",
       "Name: SalesInThousands, dtype: int64"
      ]
     },
     "execution_count": 18,
     "metadata": {},
     "output_type": "execute_result"
    }
   ],
   "source": [
    "# number of sample\n",
    "ns = df.groupby([\"Promotion\"])[\"SalesInThousands\"].count()\n",
    "ns"
   ]
  },
  {
   "cell_type": "code",
   "execution_count": 22,
   "id": "5a291b6d",
   "metadata": {},
   "outputs": [
    {
     "data": {
      "text/plain": [
       "58.09901162790698"
      ]
     },
     "execution_count": 22,
     "metadata": {},
     "output_type": "execute_result"
    }
   ],
   "source": [
    "means.loc[1]"
   ]
  },
  {
   "cell_type": "code",
   "execution_count": 30,
   "id": "91745a2c",
   "metadata": {},
   "outputs": [
    {
     "data": {
      "text/plain": [
       "6.427528670907475"
      ]
     },
     "execution_count": 30,
     "metadata": {},
     "output_type": "execute_result"
    }
   ],
   "source": [
    "t_1_vs_2 = (means.loc[1] - means.loc[2]) / np.sqrt((stds.loc[1]**2/ns.loc[1]) + (stds.loc[2]**2/ns.loc[2]))\n",
    "t_1_vs_2"
   ]
  },
  {
   "cell_type": "code",
   "execution_count": 35,
   "id": "a43e9549",
   "metadata": {},
   "outputs": [
    {
     "data": {
      "text/plain": [
       "358"
      ]
     },
     "execution_count": 35,
     "metadata": {},
     "output_type": "execute_result"
    }
   ],
   "source": [
    "# about degrees of freedom, 自由度\n",
    "df_1_vs_2 = ns.loc[1] + ns.loc[2] - 2\n",
    "df_1_vs_2"
   ]
  },
  {
   "cell_type": "code",
   "execution_count": 37,
   "id": "459db844",
   "metadata": {},
   "outputs": [
    {
     "data": {
      "text/plain": [
       "4.143296816749853e-10"
      ]
     },
     "execution_count": 37,
     "metadata": {},
     "output_type": "execute_result"
    }
   ],
   "source": [
    "p_1_vs_2 = (1-stats.t.cdf(t_1_vs_2, df = df_1_vs_2)) * 2\n",
    "p_1_vs_2\n",
    "# p value is so much smaller than 0.05 even 0.01\n",
    "# means the SalesInThousands in Promotion 1 is significantly greater than Promotion 2"
   ]
  },
  {
   "cell_type": "code",
   "execution_count": 40,
   "id": "5705b5ec",
   "metadata": {},
   "outputs": [
    {
     "name": "stdout",
     "output_type": "stream",
     "text": [
      "6.42752867090748\n",
      "4.2903687179871785e-10\n"
     ]
    }
   ],
   "source": [
    "# method 2 for calculating the t and p value\n",
    "t, p = stats.ttest_ind(\n",
    "    df.loc[df[\"Promotion\"] == 1, \"SalesInThousands\"].values,\n",
    "    df.loc[df[\"Promotion\"] == 2, \"SalesInThousands\"].values,\n",
    "    equal_var = False\n",
    ")\n",
    "\n",
    "print(t)\n",
    "print(p)"
   ]
  },
  {
   "cell_type": "markdown",
   "id": "73327247",
   "metadata": {},
   "source": [
    "though in other hand promotion 1 vs. promotion 3 is not significantly greater, so we can oly said that the marketing performance for promotion 1 is significantly greater than promotion 2, but promotion 1 is not significantly greater than promotion 3."
   ]
  },
  {
   "cell_type": "code",
   "execution_count": 41,
   "id": "53cc9023",
   "metadata": {},
   "outputs": [],
   "source": [
    "# done for test about marketing campaign's effectiveness"
   ]
  },
  {
   "cell_type": "markdown",
   "id": "73b41105",
   "metadata": {},
   "source": [
    "---"
   ]
  },
  {
   "cell_type": "code",
   "execution_count": null,
   "id": "266910ae",
   "metadata": {},
   "outputs": [],
   "source": []
  }
 ],
 "metadata": {
  "kernelspec": {
   "display_name": "Python 3 (ipykernel)",
   "language": "python",
   "name": "python3"
  },
  "language_info": {
   "codemirror_mode": {
    "name": "ipython",
    "version": 3
   },
   "file_extension": ".py",
   "mimetype": "text/x-python",
   "name": "python",
   "nbconvert_exporter": "python",
   "pygments_lexer": "ipython3",
   "version": "3.8.0"
  }
 },
 "nbformat": 4,
 "nbformat_minor": 5
}
